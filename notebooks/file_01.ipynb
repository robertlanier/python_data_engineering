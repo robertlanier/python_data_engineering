{
  "cells": [
    {
      "cell_type": "code",
      "source": [
        "print(\"Hello data engineering\")"
      ],
      "metadata": {
        "id": "E8tXtvXEaJuY",
        "outputId": "063da660-9ce0-4110-8e9b-8e8d7702d3ab",
        "colab": {
          "base_uri": "https://localhost:8080/"
        }
      },
      "id": "E8tXtvXEaJuY",
      "execution_count": 1,
      "outputs": [
        {
          "output_type": "stream",
          "name": "stdout",
          "text": [
            "Hello data engineering\n"
          ]
        }
      ]
    }
  ],
  "metadata": {
    "interpreter": {
      "hash": "767d51c1340bd893661ea55ea3124f6de3c7a262a8b4abca0554b478b1e2ff90"
    },
    "kernelspec": {
      "display_name": "Python 3.9.7 64-bit",
      "name": "python3"
    },
    "language_info": {
      "codemirror_mode": {
        "name": "ipython",
        "version": 3
      },
      "file_extension": ".py",
      "mimetype": "text/x-python",
      "name": "python",
      "nbconvert_exporter": "python",
      "pygments_lexer": "ipython3",
      "version": "3.9.7"
    },
    "colab": {
      "provenance": []
    }
  },
  "nbformat": 4,
  "nbformat_minor": 5
}